{
 "cells": [
  {
   "cell_type": "code",
   "metadata": {
    "ExecuteTime": {
     "end_time": "2025-02-04T09:40:11.564498Z",
     "start_time": "2025-02-04T09:40:11.558841Z"
    }
   },
   "source": "import torch",
   "outputs": [],
   "execution_count": 22
  },
  {
   "cell_type": "code",
   "metadata": {
    "ExecuteTime": {
     "end_time": "2025-02-04T09:40:12.635663Z",
     "start_time": "2025-02-04T09:40:12.630934Z"
    }
   },
   "source": [
    "print(\"GPU found: \", torch.cuda.device_count())\n",
    "print(\"GPU: \", torch.cuda.get_device_name())"
   ],
   "outputs": [
    {
     "name": "stdout",
     "output_type": "stream",
     "text": [
      "GPU found:  1\n",
      "GPU:  NVIDIA GeForce RTX 3050 Laptop GPU\n"
     ]
    }
   ],
   "execution_count": 23
  },
  {
   "cell_type": "code",
   "metadata": {
    "ExecuteTime": {
     "end_time": "2025-02-04T09:40:14.204626Z",
     "start_time": "2025-02-04T09:40:14.128446Z"
    }
   },
   "source": [
    "!git clone https://github.com/indobenchmark/indonlu.git"
   ],
   "outputs": [
    {
     "name": "stderr",
     "output_type": "stream",
     "text": [
      "fatal: destination path 'indonlu' already exists and is not an empty directory.\n"
     ]
    }
   ],
   "execution_count": 24
  },
  {
   "cell_type": "code",
   "metadata": {
    "ExecuteTime": {
     "end_time": "2025-02-04T09:40:15.358812Z",
     "start_time": "2025-02-04T09:40:15.353555Z"
    }
   },
   "source": [
    "import pandas as pd\n",
    "import numpy as np\n",
    "import string\n",
    "import re\n",
    "from sklearn.model_selection import train_test_split\n",
    "from sklearn.metrics import classification_report\n",
    "from collections import defaultdict\n",
    "import random"
   ],
   "outputs": [],
   "execution_count": 25
  },
  {
   "cell_type": "code",
   "metadata": {
    "ExecuteTime": {
     "end_time": "2025-02-04T09:40:17.176745Z",
     "start_time": "2025-02-04T09:40:17.171472Z"
    }
   },
   "source": [
    "import torch\n",
    "import torch.nn.functional as F\n",
    "import torch.optim as optim\n",
    "from tqdm import tqdm\n",
    "from sklearn.metrics import accuracy_score, f1_score, recall_score, precision_score\n",
    "from transformers import BertTokenizer, BertForSequenceClassification, BertConfig\n",
    "from indonlu.utils.data_utils import DocumentSentimentDataset, DocumentSentimentDataLoader\n",
    "from indonlu.utils.forward_fn import forward_sequence_classification\n",
    "from indonlu.utils.metrics import document_sentiment_metrics_fn\n",
    "from torch.utils.data import Dataset"
   ],
   "outputs": [],
   "execution_count": 26
  },
  {
   "cell_type": "code",
   "metadata": {
    "ExecuteTime": {
     "end_time": "2025-02-04T09:40:20.537233Z",
     "start_time": "2025-02-04T09:40:20.517527Z"
    }
   },
   "source": [
    "df = pd.read_csv(r'clean-sentiment.csv')\n",
    "df"
   ],
   "outputs": [
    {
     "data": {
      "text/plain": [
       "                                             merge_text sentiment\n",
       "0         barang sesuai gambar pengiriman sesuai jadwal   neutral\n",
       "1         barang cepat l keras overall good semoga awet  positive\n",
       "2                                     produk pengiriman  negative\n",
       "3                                         barang sesuai  positive\n",
       "4     bingung install softwarenya enggak komplit eng...  positive\n",
       "...                                                 ...       ...\n",
       "4973                  warna sesuai pilihan port menyala  positive\n",
       "4974        barang terima tinggal test terima kasih gan  positive\n",
       "4975                          bagus terima kasih sukses  positive\n",
       "4976      mantap gan barang sempurna awet thanks ya gan  positive\n",
       "4977                                      packing bagus  negative\n",
       "\n",
       "[4978 rows x 2 columns]"
      ],
      "text/html": [
       "<div>\n",
       "<style scoped>\n",
       "    .dataframe tbody tr th:only-of-type {\n",
       "        vertical-align: middle;\n",
       "    }\n",
       "\n",
       "    .dataframe tbody tr th {\n",
       "        vertical-align: top;\n",
       "    }\n",
       "\n",
       "    .dataframe thead th {\n",
       "        text-align: right;\n",
       "    }\n",
       "</style>\n",
       "<table border=\"1\" class=\"dataframe\">\n",
       "  <thead>\n",
       "    <tr style=\"text-align: right;\">\n",
       "      <th></th>\n",
       "      <th>merge_text</th>\n",
       "      <th>sentiment</th>\n",
       "    </tr>\n",
       "  </thead>\n",
       "  <tbody>\n",
       "    <tr>\n",
       "      <th>0</th>\n",
       "      <td>barang sesuai gambar pengiriman sesuai jadwal</td>\n",
       "      <td>neutral</td>\n",
       "    </tr>\n",
       "    <tr>\n",
       "      <th>1</th>\n",
       "      <td>barang cepat l keras overall good semoga awet</td>\n",
       "      <td>positive</td>\n",
       "    </tr>\n",
       "    <tr>\n",
       "      <th>2</th>\n",
       "      <td>produk pengiriman</td>\n",
       "      <td>negative</td>\n",
       "    </tr>\n",
       "    <tr>\n",
       "      <th>3</th>\n",
       "      <td>barang sesuai</td>\n",
       "      <td>positive</td>\n",
       "    </tr>\n",
       "    <tr>\n",
       "      <th>4</th>\n",
       "      <td>bingung install softwarenya enggak komplit eng...</td>\n",
       "      <td>positive</td>\n",
       "    </tr>\n",
       "    <tr>\n",
       "      <th>...</th>\n",
       "      <td>...</td>\n",
       "      <td>...</td>\n",
       "    </tr>\n",
       "    <tr>\n",
       "      <th>4973</th>\n",
       "      <td>warna sesuai pilihan port menyala</td>\n",
       "      <td>positive</td>\n",
       "    </tr>\n",
       "    <tr>\n",
       "      <th>4974</th>\n",
       "      <td>barang terima tinggal test terima kasih gan</td>\n",
       "      <td>positive</td>\n",
       "    </tr>\n",
       "    <tr>\n",
       "      <th>4975</th>\n",
       "      <td>bagus terima kasih sukses</td>\n",
       "      <td>positive</td>\n",
       "    </tr>\n",
       "    <tr>\n",
       "      <th>4976</th>\n",
       "      <td>mantap gan barang sempurna awet thanks ya gan</td>\n",
       "      <td>positive</td>\n",
       "    </tr>\n",
       "    <tr>\n",
       "      <th>4977</th>\n",
       "      <td>packing bagus</td>\n",
       "      <td>negative</td>\n",
       "    </tr>\n",
       "  </tbody>\n",
       "</table>\n",
       "<p>4978 rows × 2 columns</p>\n",
       "</div>"
      ]
     },
     "execution_count": 27,
     "metadata": {},
     "output_type": "execute_result"
    }
   ],
   "execution_count": 27
  },
  {
   "cell_type": "code",
   "metadata": {
    "ExecuteTime": {
     "end_time": "2025-02-04T09:40:25.841989Z",
     "start_time": "2025-02-04T09:40:25.836886Z"
    }
   },
   "source": [
    "print(df['sentiment'].isnull().sum())"
   ],
   "outputs": [
    {
     "name": "stdout",
     "output_type": "stream",
     "text": [
      "0\n"
     ]
    }
   ],
   "execution_count": 28
  },
  {
   "cell_type": "code",
   "metadata": {
    "ExecuteTime": {
     "end_time": "2025-02-04T09:40:27.008778Z",
     "start_time": "2025-02-04T09:40:26.995621Z"
    }
   },
   "source": [
    "df\n",
    "\n",
    "df.to_csv('dataset_clean.tsv', sep='\\t', header=None, index=False)"
   ],
   "outputs": [],
   "execution_count": 29
  },
  {
   "cell_type": "code",
   "metadata": {
    "ExecuteTime": {
     "end_time": "2025-02-04T09:40:28.955862Z",
     "start_time": "2025-02-04T09:40:28.941404Z"
    }
   },
   "source": [
    "train_df, valid_df = train_test_split(df, test_size=0.3, stratify=df.sentiment, random_state=42)\n",
    "valid_df, test_df = train_test_split(valid_df, test_size=0.33, stratify=valid_df.sentiment, random_state=42)"
   ],
   "outputs": [],
   "execution_count": 30
  },
  {
   "cell_type": "code",
   "metadata": {
    "ExecuteTime": {
     "end_time": "2025-02-04T09:40:29.713865Z",
     "start_time": "2025-02-04T09:40:29.707980Z"
    }
   },
   "source": [
    "print(f'Ukuran Train: {train_df.shape}')\n",
    "print(f'Ukuran Validation: {valid_df.shape}')\n",
    "print(f'Ukuran Test: {test_df.shape}')"
   ],
   "outputs": [
    {
     "name": "stdout",
     "output_type": "stream",
     "text": [
      "Ukuran Train: (3484, 2)\n",
      "Ukuran Validation: (1000, 2)\n",
      "Ukuran Test: (494, 2)\n"
     ]
    }
   ],
   "execution_count": 31
  },
  {
   "cell_type": "code",
   "metadata": {
    "ExecuteTime": {
     "end_time": "2025-02-04T09:40:37.294124Z",
     "start_time": "2025-02-04T09:40:37.276274Z"
    }
   },
   "source": [
    "train_df.to_csv('train.tsv', sep='\\t', header=None, index=False)\n",
    "valid_df.to_csv('eval.tsv', sep='\\t', header=None, index=False)\n",
    "test_df.to_csv('test_df.tsv', sep='\\t', header=None, index=False)"
   ],
   "outputs": [],
   "execution_count": 32
  },
  {
   "cell_type": "code",
   "metadata": {
    "ExecuteTime": {
     "end_time": "2025-02-04T09:40:38.527189Z",
     "start_time": "2025-02-04T09:40:38.516804Z"
    }
   },
   "source": [
    "def set_seed(seed):\n",
    "  random.seed(seed)\n",
    "  np.random.seed(seed)\n",
    "  torch.manual_seed(seed)\n",
    "  torch.cuda.manual_seed(seed)\n",
    "\n",
    "def count_param(module, trainable=False):\n",
    "  if trainable:\n",
    "    return sum(p.numel() for p in module.parameters() if p.requires_grad)\n",
    "  else:\n",
    "    return sum(p.numel() for p in module.parameters())\n",
    "\n",
    "def get_lr(optimizer):\n",
    "  for param_group in optimizer.param_groups:\n",
    "    return param_group['lr']\n",
    "\n",
    "def metrics_to_string(metric_dict):\n",
    "  string_list = []\n",
    "  for key, value in metric_dict.items():\n",
    "    string_list.append('{}:{:.2f}'.format(key, value))\n",
    "  return ', '.join(string_list)\n",
    "\n",
    "set_seed(42)\n",
    "print(set_seed)"
   ],
   "outputs": [
    {
     "name": "stdout",
     "output_type": "stream",
     "text": [
      "<function set_seed at 0x000002098A34A160>\n"
     ]
    }
   ],
   "execution_count": 33
  },
  {
   "cell_type": "code",
   "metadata": {
    "ExecuteTime": {
     "end_time": "2025-02-04T09:40:42.379020Z",
     "start_time": "2025-02-04T09:40:39.446514Z"
    }
   },
   "source": [
    "tokenizer = BertTokenizer.from_pretrained('indobenchmark/indobert-base-p2')\n",
    "config = BertConfig.from_pretrained('indobenchmark/indobert-base-p2')\n",
    "config.num_labels = DocumentSentimentDataset.NUM_LABELS\n",
    "model = BertForSequenceClassification.from_pretrained('indobenchmark/indobert-base-p2', config=config)\n",
    "print(model)\n",
    "print(count_param(model))"
   ],
   "outputs": [
    {
     "name": "stderr",
     "output_type": "stream",
     "text": [
      "Some weights of BertForSequenceClassification were not initialized from the model checkpoint at indobenchmark/indobert-base-p2 and are newly initialized: ['classifier.bias', 'classifier.weight']\n",
      "You should probably TRAIN this model on a down-stream task to be able to use it for predictions and inference.\n"
     ]
    },
    {
     "name": "stdout",
     "output_type": "stream",
     "text": [
      "BertForSequenceClassification(\n",
      "  (bert): BertModel(\n",
      "    (embeddings): BertEmbeddings(\n",
      "      (word_embeddings): Embedding(50000, 768, padding_idx=0)\n",
      "      (position_embeddings): Embedding(512, 768)\n",
      "      (token_type_embeddings): Embedding(2, 768)\n",
      "      (LayerNorm): LayerNorm((768,), eps=1e-12, elementwise_affine=True)\n",
      "      (dropout): Dropout(p=0.1, inplace=False)\n",
      "    )\n",
      "    (encoder): BertEncoder(\n",
      "      (layer): ModuleList(\n",
      "        (0-11): 12 x BertLayer(\n",
      "          (attention): BertAttention(\n",
      "            (self): BertSdpaSelfAttention(\n",
      "              (query): Linear(in_features=768, out_features=768, bias=True)\n",
      "              (key): Linear(in_features=768, out_features=768, bias=True)\n",
      "              (value): Linear(in_features=768, out_features=768, bias=True)\n",
      "              (dropout): Dropout(p=0.1, inplace=False)\n",
      "            )\n",
      "            (output): BertSelfOutput(\n",
      "              (dense): Linear(in_features=768, out_features=768, bias=True)\n",
      "              (LayerNorm): LayerNorm((768,), eps=1e-12, elementwise_affine=True)\n",
      "              (dropout): Dropout(p=0.1, inplace=False)\n",
      "            )\n",
      "          )\n",
      "          (intermediate): BertIntermediate(\n",
      "            (dense): Linear(in_features=768, out_features=3072, bias=True)\n",
      "            (intermediate_act_fn): GELUActivation()\n",
      "          )\n",
      "          (output): BertOutput(\n",
      "            (dense): Linear(in_features=3072, out_features=768, bias=True)\n",
      "            (LayerNorm): LayerNorm((768,), eps=1e-12, elementwise_affine=True)\n",
      "            (dropout): Dropout(p=0.1, inplace=False)\n",
      "          )\n",
      "        )\n",
      "      )\n",
      "    )\n",
      "    (pooler): BertPooler(\n",
      "      (dense): Linear(in_features=768, out_features=768, bias=True)\n",
      "      (activation): Tanh()\n",
      "    )\n",
      "  )\n",
      "  (dropout): Dropout(p=0.1, inplace=False)\n",
      "  (classifier): Linear(in_features=768, out_features=3, bias=True)\n",
      ")\n",
      "124443651\n"
     ]
    }
   ],
   "execution_count": 34
  },
  {
   "cell_type": "code",
   "metadata": {
    "ExecuteTime": {
     "end_time": "2025-02-04T09:40:44.447711Z",
     "start_time": "2025-02-04T09:40:43.420694Z"
    }
   },
   "source": [
    "merge_text = df.merge_text.values\n",
    "tokenized_texts = tokenizer.tokenize(merge_text[3])\n",
    "\n",
    "input_ids = []\n",
    "\n",
    "for text in merge_text:\n",
    "  encoded_text = tokenizer.encode(\n",
    "      text,\n",
    "      add_special_tokens=True,\n",
    "  )\n",
    "  input_ids.append(encoded_text)\n",
    "\n",
    "print(\"Asli:\", merge_text[3])\n",
    "print(\"Tokenized:\", tokenized_texts)\n",
    "print(\"Input IDs:\", input_ids[3])"
   ],
   "outputs": [
    {
     "name": "stdout",
     "output_type": "stream",
     "text": [
      "Asli: barang sesuai\n",
      "Tokenized: ['barang', 'sesuai']\n",
      "Input IDs: [2, 963, 786, 3]\n"
     ]
    }
   ],
   "execution_count": 35
  },
  {
   "cell_type": "code",
   "metadata": {
    "ExecuteTime": {
     "end_time": "2025-02-04T09:40:46.175935Z",
     "start_time": "2025-02-04T09:40:45.718291Z"
    }
   },
   "source": [
    "optimizer = optim.Adam(model.parameters(), lr=3e-6)\n",
    "model = model.cuda()"
   ],
   "outputs": [],
   "execution_count": 36
  },
  {
   "cell_type": "code",
   "metadata": {
    "ExecuteTime": {
     "end_time": "2025-02-04T09:40:50.812625Z",
     "start_time": "2025-02-04T09:40:50.808112Z"
    }
   },
   "source": [
    "import os\n",
    "print(os.getcwd()) "
   ],
   "outputs": [
    {
     "name": "stdout",
     "output_type": "stream",
     "text": [
      "C:\\Users\\Akhdan Farros R\\Documents\\Kuliah\\Tugas Akhir\\TA\n"
     ]
    }
   ],
   "execution_count": 37
  },
  {
   "cell_type": "code",
   "metadata": {
    "ExecuteTime": {
     "end_time": "2025-02-04T09:40:51.948002Z",
     "start_time": "2025-02-04T09:40:51.943476Z"
    }
   },
   "source": [
    "train_dataset_path = 'train.tsv'\n",
    "valid_dataset_path = 'eval.tsv'\n",
    "test_dataset_path = 'test_df.tsv'"
   ],
   "outputs": [],
   "execution_count": 38
  },
  {
   "cell_type": "code",
   "metadata": {
    "ExecuteTime": {
     "end_time": "2025-02-04T09:40:53.162711Z",
     "start_time": "2025-02-04T09:40:53.140222Z"
    }
   },
   "source": [
    "train_dataset = DocumentSentimentDataset(train_dataset_path, tokenizer, lowercase=True)\n",
    "valid_dataset = DocumentSentimentDataset(valid_dataset_path, tokenizer, lowercase=True)\n",
    "test_dataset = DocumentSentimentDataset(test_dataset_path, tokenizer, lowercase=True)\n",
    "\n",
    "train_loader = DocumentSentimentDataLoader(dataset=train_dataset, max_seq_len=512, batch_size=32, num_workers=2, shuffle=True)\n",
    "valid_loader = DocumentSentimentDataLoader(dataset=valid_dataset, max_seq_len=512, batch_size=32, num_workers=2, shuffle=False)\n",
    "test_loader = DocumentSentimentDataLoader(dataset=test_dataset, max_seq_len=512, batch_size=32, num_workers=2, shuffle=False)"
   ],
   "outputs": [],
   "execution_count": 39
  },
  {
   "cell_type": "code",
   "metadata": {
    "ExecuteTime": {
     "end_time": "2025-02-04T09:40:54.688215Z",
     "start_time": "2025-02-04T09:40:54.682710Z"
    }
   },
   "source": [
    "w2i, i2w = DocumentSentimentDataset.LABEL2INDEX, DocumentSentimentDataset.INDEX2LABEL\n",
    "print(w2i)\n",
    "print(i2w)"
   ],
   "outputs": [
    {
     "name": "stdout",
     "output_type": "stream",
     "text": [
      "{'positive': 0, 'neutral': 1, 'negative': 2}\n",
      "{0: 'positive', 1: 'neutral', 2: 'negative'}\n"
     ]
    }
   ],
   "execution_count": 40
  },
  {
   "cell_type": "code",
   "metadata": {
    "ExecuteTime": {
     "end_time": "2025-02-04T09:47:07.925002Z",
     "start_time": "2025-02-04T09:40:55.849979Z"
    }
   },
   "source": [
    "n_epochs = 5\n",
    "history = defaultdict(list)\n",
    "\n",
    "train_losses = []\n",
    "valid_losses = []\n",
    "test_losses = []\n",
    "\n",
    "for epoch in range(n_epochs):\n",
    "    # Training Phase\n",
    "    model.train()\n",
    "    torch.set_grad_enabled(True)\n",
    "\n",
    "    total_train_loss = 0\n",
    "    list_hyp, list_label = [], []\n",
    "\n",
    "    train_pbar = tqdm(train_loader, leave=True, total=len(train_loader))\n",
    "    for i, batch_data in enumerate(train_pbar):\n",
    "        loss, batch_hyp, batch_label = forward_sequence_classification(model, batch_data[:-1], i2w=i2w, device='cuda')\n",
    "\n",
    "        # Update model\n",
    "        optimizer.zero_grad()\n",
    "        loss.backward()\n",
    "        optimizer.step()\n",
    "\n",
    "        total_train_loss += loss.item()\n",
    "        list_hyp += batch_hyp\n",
    "        list_label += batch_label\n",
    "\n",
    "        train_pbar.set_description(f\"(Epoch {epoch+1}) TRAIN LOSS: {total_train_loss / (i+1):.4f}\")\n",
    "\n",
    "    metrics = document_sentiment_metrics_fn(list_hyp, list_label)\n",
    "    print(f\"(Epoch {epoch+1}) TRAIN LOSS: {total_train_loss / len(train_loader):.4f} {metrics_to_string(metrics)}\")\n",
    "    train_losses.append(total_train_loss / len(train_loader))\n",
    "\n",
    "    # Validation Phase\n",
    "    model.eval()\n",
    "    torch.set_grad_enabled(False)\n",
    "\n",
    "    total_valid_loss = 0\n",
    "    list_hyp, list_label = [], []\n",
    "\n",
    "    valid_pbar = tqdm(valid_loader, leave=True, total=len(valid_loader))\n",
    "    for i, batch_data in enumerate(valid_pbar):\n",
    "        loss, batch_hyp, batch_label = forward_sequence_classification(model, batch_data[:-1], i2w=i2w, device='cuda')\n",
    "\n",
    "        total_valid_loss += loss.item()\n",
    "        list_hyp += batch_hyp\n",
    "        list_label += batch_label\n",
    "\n",
    "        valid_pbar.set_description(f\"VALID LOSS: {total_valid_loss / (i+1):.4f}\")\n",
    "\n",
    "    metrics = document_sentiment_metrics_fn(list_hyp, list_label)\n",
    "    print(f\"(Epoch {epoch+1}) VALID LOSS: {total_valid_loss / len(valid_loader):.4f} {metrics_to_string(metrics)}\")\n",
    "    valid_losses.append(total_valid_loss / len(valid_loader))\n",
    "\n",
    "    # Test Phase\n",
    "    total_test_loss = 0\n",
    "    list_hyp_test, list_label_test = [], []\n",
    "\n",
    "    test_pbar = tqdm(test_loader, leave=True, total=len(test_loader))\n",
    "    for i, batch_data in enumerate(test_pbar):\n",
    "        loss, batch_hyp, batch_label = forward_sequence_classification(model, batch_data[:-1], i2w=i2w, device='cuda')\n",
    "\n",
    "        total_test_loss += loss.item()\n",
    "        list_hyp_test += batch_hyp\n",
    "        list_label_test += batch_label\n",
    "\n",
    "        test_pbar.set_description(f\"TEST LOSS: {total_test_loss / (i+1):.4f}\")\n",
    "\n",
    "    metrics = document_sentiment_metrics_fn(list_hyp_test, list_label_test)\n",
    "    print(f\"(Epoch {epoch+1}) TEST LOSS: {total_test_loss / len(test_loader):.4f} {metrics_to_string(metrics)}\")\n",
    "    test_losses.append(total_test_loss / len(test_loader))\n",
    "\n",
    "# Plot training, validation, and test losses\n",
    "import matplotlib.pyplot as plt\n",
    "\n",
    "plt.style.use('default')  # Pastikan latar belakang putih\n",
    "plt.rcParams['figure.facecolor'] = 'white'\n",
    "\n",
    "plt.figure(figsize=(10, 6))\n",
    "plt.plot(range(1, n_epochs + 1), train_losses, label='Training Loss', color='blue')\n",
    "plt.plot(range(1, n_epochs + 1), valid_losses, label='Validation Loss', color='green')\n",
    "plt.plot(range(1, n_epochs + 1), test_losses, label='Test Loss', color='red')\n",
    "plt.xlabel('Epochs')\n",
    "plt.ylabel('Loss')\n",
    "plt.title('Training, Validation, and Test Loss')\n",
    "plt.legend()\n",
    "plt.grid()\n",
    "plt.show()"
   ],
   "outputs": [
    {
     "name": "stderr",
     "output_type": "stream",
     "text": [
      "(Epoch 1) TRAIN LOSS: 0.7107: 100%|██████████| 109/109 [00:52<00:00,  2.08it/s]\n"
     ]
    },
    {
     "name": "stdout",
     "output_type": "stream",
     "text": [
      "(Epoch 1) TRAIN LOSS: 0.7107 ACC:0.71, F1:0.44, REC:0.43, PRE:0.70\n"
     ]
    },
    {
     "name": "stderr",
     "output_type": "stream",
     "text": [
      "VALID LOSS: 0.5555: 100%|██████████| 32/32 [00:11<00:00,  2.70it/s]\n"
     ]
    },
    {
     "name": "stdout",
     "output_type": "stream",
     "text": [
      "(Epoch 1) VALID LOSS: 0.5555 ACC:0.79, F1:0.65, REC:0.61, PRE:0.78\n"
     ]
    },
    {
     "name": "stderr",
     "output_type": "stream",
     "text": [
      "TEST LOSS: 0.5598: 100%|██████████| 16/16 [00:09<00:00,  1.73it/s]\n"
     ]
    },
    {
     "name": "stdout",
     "output_type": "stream",
     "text": [
      "(Epoch 1) TEST LOSS: 0.5598 ACC:0.79, F1:0.65, REC:0.60, PRE:0.78\n"
     ]
    },
    {
     "name": "stderr",
     "output_type": "stream",
     "text": [
      "(Epoch 2) TRAIN LOSS: 0.4645: 100%|██████████| 109/109 [00:51<00:00,  2.11it/s]\n"
     ]
    },
    {
     "name": "stdout",
     "output_type": "stream",
     "text": [
      "(Epoch 2) TRAIN LOSS: 0.4645 ACC:0.83, F1:0.75, REC:0.71, PRE:0.80\n"
     ]
    },
    {
     "name": "stderr",
     "output_type": "stream",
     "text": [
      "VALID LOSS: 0.4198: 100%|██████████| 32/32 [00:11<00:00,  2.67it/s]\n"
     ]
    },
    {
     "name": "stdout",
     "output_type": "stream",
     "text": [
      "(Epoch 2) VALID LOSS: 0.4198 ACC:0.85, F1:0.77, REC:0.74, PRE:0.81\n"
     ]
    },
    {
     "name": "stderr",
     "output_type": "stream",
     "text": [
      "TEST LOSS: 0.4350: 100%|██████████| 16/16 [00:09<00:00,  1.71it/s]\n"
     ]
    },
    {
     "name": "stdout",
     "output_type": "stream",
     "text": [
      "(Epoch 2) TEST LOSS: 0.4350 ACC:0.86, F1:0.78, REC:0.75, PRE:0.83\n"
     ]
    },
    {
     "name": "stderr",
     "output_type": "stream",
     "text": [
      "(Epoch 3) TRAIN LOSS: 0.3516: 100%|██████████| 109/109 [00:52<00:00,  2.09it/s]\n"
     ]
    },
    {
     "name": "stdout",
     "output_type": "stream",
     "text": [
      "(Epoch 3) TRAIN LOSS: 0.3516 ACC:0.88, F1:0.81, REC:0.79, PRE:0.84\n"
     ]
    },
    {
     "name": "stderr",
     "output_type": "stream",
     "text": [
      "VALID LOSS: 0.3658: 100%|██████████| 32/32 [00:12<00:00,  2.66it/s]\n"
     ]
    },
    {
     "name": "stdout",
     "output_type": "stream",
     "text": [
      "(Epoch 3) VALID LOSS: 0.3658 ACC:0.86, F1:0.79, REC:0.78, PRE:0.83\n"
     ]
    },
    {
     "name": "stderr",
     "output_type": "stream",
     "text": [
      "TEST LOSS: 0.3858: 100%|██████████| 16/16 [00:09<00:00,  1.61it/s]\n"
     ]
    },
    {
     "name": "stdout",
     "output_type": "stream",
     "text": [
      "(Epoch 3) TEST LOSS: 0.3858 ACC:0.87, F1:0.81, REC:0.79, PRE:0.82\n"
     ]
    },
    {
     "name": "stderr",
     "output_type": "stream",
     "text": [
      "(Epoch 4) TRAIN LOSS: 0.2925: 100%|██████████| 109/109 [00:53<00:00,  2.05it/s]\n"
     ]
    },
    {
     "name": "stdout",
     "output_type": "stream",
     "text": [
      "(Epoch 4) TRAIN LOSS: 0.2925 ACC:0.90, F1:0.85, REC:0.83, PRE:0.87\n"
     ]
    },
    {
     "name": "stderr",
     "output_type": "stream",
     "text": [
      "VALID LOSS: 0.3256: 100%|██████████| 32/32 [00:11<00:00,  2.69it/s]\n"
     ]
    },
    {
     "name": "stdout",
     "output_type": "stream",
     "text": [
      "(Epoch 4) VALID LOSS: 0.3256 ACC:0.88, F1:0.82, REC:0.81, PRE:0.85\n"
     ]
    },
    {
     "name": "stderr",
     "output_type": "stream",
     "text": [
      "TEST LOSS: 0.3522: 100%|██████████| 16/16 [00:09<00:00,  1.74it/s]\n"
     ]
    },
    {
     "name": "stdout",
     "output_type": "stream",
     "text": [
      "(Epoch 4) TEST LOSS: 0.3522 ACC:0.88, F1:0.81, REC:0.79, PRE:0.83\n"
     ]
    },
    {
     "name": "stderr",
     "output_type": "stream",
     "text": [
      "(Epoch 5) TRAIN LOSS: 0.2340: 100%|██████████| 109/109 [00:53<00:00,  2.03it/s]\n"
     ]
    },
    {
     "name": "stdout",
     "output_type": "stream",
     "text": [
      "(Epoch 5) TRAIN LOSS: 0.2340 ACC:0.92, F1:0.88, REC:0.86, PRE:0.89\n"
     ]
    },
    {
     "name": "stderr",
     "output_type": "stream",
     "text": [
      "VALID LOSS: 0.3032: 100%|██████████| 32/32 [00:12<00:00,  2.56it/s]\n"
     ]
    },
    {
     "name": "stdout",
     "output_type": "stream",
     "text": [
      "(Epoch 5) VALID LOSS: 0.3032 ACC:0.90, F1:0.85, REC:0.83, PRE:0.87\n"
     ]
    },
    {
     "name": "stderr",
     "output_type": "stream",
     "text": [
      "TEST LOSS: 0.3485: 100%|██████████| 16/16 [00:10<00:00,  1.59it/s]\n"
     ]
    },
    {
     "name": "stdout",
     "output_type": "stream",
     "text": [
      "(Epoch 5) TEST LOSS: 0.3485 ACC:0.88, F1:0.82, REC:0.81, PRE:0.83\n"
     ]
    },
    {
     "data": {
      "text/plain": [
       "<Figure size 1000x600 with 1 Axes>"
      ],
      "image/png": "[encoded data removed]"
     },
     "metadata": {},
     "output_type": "display_data"
    }
   ],
   "execution_count": 41
  },
  {
   "cell_type": "code",
   "metadata": {
    "ExecuteTime": {
     "end_time": "2025-02-04T09:47:28.328293Z",
     "start_time": "2025-02-04T09:47:15.384874Z"
    }
   },
   "source": [
    "\n",
    "from sklearn.metrics import confusion_matrix, classification_report, accuracy_score\n",
    "import seaborn as sns\n",
    "import matplotlib.pyplot as plt\n",
    "\n",
    "# Setelah semua epoch selesai, hitung dan tampilkan confusion matrix\n",
    "print(\"\\nConfusion Matrix:\")\n",
    "final_hyp, final_label = [], []\n",
    "\n",
    "# Evaluasi model pada valid_loader untuk mendapatkan prediksi akhir\n",
    "total_loss, total_correct, total_labels = 0, 0, 0\n",
    "list_hyp, list_label = [], []\n",
    "\n",
    "model.eval()\n",
    "torch.set_grad_enabled(False)\n",
    "\n",
    "for batch_data in tqdm(valid_loader, leave=True, total=len(valid_loader)):\n",
    "    _, batch_hyp, batch_label = forward_sequence_classification(model, batch_data[:-1], i2w=i2w, device='cuda')\n",
    "    list_hyp += batch_hyp\n",
    "    list_label += batch_label\n",
    "\n",
    "# Hitung confusion matrix\n",
    "cm = confusion_matrix(list_label, list_hyp)\n",
    "\n",
    "# Tampilkan Confusion Matrix sebagai visualisasi heatmap\n",
    "plt.figure(figsize=(10, 7))\n",
    "sns.heatmap(cm, annot=True, fmt='d', cmap='Blues', xticklabels=i2w.values(), yticklabels=i2w.values())\n",
    "plt.xlabel('Predicted Labels')\n",
    "plt.ylabel('True Labels')\n",
    "plt.title('Confusion Matrix')\n",
    "plt.show()\n",
    "\n",
    "# Tambahkan laporan lengkap dengan metrik lainnya\n",
    "print(\"\\nClassification Report:\")\n",
    "print(classification_report(list_label, list_hyp, target_names=i2w.values()))\n",
    "\n",
    "# Hitung dan tampilkan akurasi\n",
    "accuracy = accuracy_score(list_label, list_hyp)\n",
    "print(f\"\\nAccuracy: {accuracy:.2f}\")\n"
   ],
   "outputs": [
    {
     "name": "stdout",
     "output_type": "stream",
     "text": [
      "\n",
      "Confusion Matrix:\n"
     ]
    },
    {
     "name": "stderr",
     "output_type": "stream",
     "text": [
      "100%|██████████| 32/32 [00:12<00:00,  2.51it/s]\n"
     ]
    },
    {
     "data": {
      "text/plain": [
       "<Figure size 1000x700 with 2 Axes>"
      ],
      "image/png": "[encoded data removed]"
     },
     "metadata": {},
     "output_type": "display_data"
    },
    {
     "name": "stdout",
     "output_type": "stream",
     "text": [
      "\n",
      "Classification Report:\n",
      "              precision    recall  f1-score   support\n",
      "\n",
      "    positive       0.80      0.83      0.82       187\n",
      "     neutral       0.86      0.71      0.77       136\n",
      "    negative       0.94      0.96      0.95       677\n",
      "\n",
      "    accuracy                           0.90      1000\n",
      "   macro avg       0.87      0.83      0.85      1000\n",
      "weighted avg       0.90      0.90      0.90      1000\n",
      "\n",
      "\n",
      "Accuracy: 0.90\n"
     ]
    }
   ],
   "execution_count": 42
  },
  {
   "metadata": {},
   "cell_type": "code",
   "source": "",
   "outputs": [],
   "execution_count": null
  }
 ],
 "metadata": {
  "kernelspec": {
   "display_name": "base",
   "language": "python",
   "name": "python3"
  },
  "language_info": {
   "codemirror_mode": {
    "name": "ipython",
    "version": 3
   },
   "file_extension": ".py",
   "mimetype": "text/x-python",
   "name": "python",
   "nbconvert_exporter": "python",
   "pygments_lexer": "ipython3",
   "version": "3.10.12"
  }
 },
 "nbformat": 4,
 "nbformat_minor": 2
}
